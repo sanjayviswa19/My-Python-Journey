{
 "cells": [
  {
   "cell_type": "markdown",
   "id": "7b628b8a-9061-4fdf-8e0f-d40dd211c44d",
   "metadata": {},
   "source": [
    "python Operater"
   ]
  },
  {
   "cell_type": "code",
   "execution_count": 3,
   "id": "f744cf1a-6e74-40e9-9502-9384c4ec9404",
   "metadata": {},
   "outputs": [
    {
     "name": "stdout",
     "output_type": "stream",
     "text": [
      "15\n",
      "-5\n",
      "50\n",
      "0.5\n",
      "0\n",
      "5\n",
      "9765625\n"
     ]
    }
   ],
   "source": [
    "#arithmetic operater\n",
    "a = 5\n",
    "b = 10\n",
    "print(a+b)\n",
    "print(a-b)\n",
    "print(a*b)\n",
    "print(a/b)\n",
    "print(a//b)\n",
    "print(a%b)\n",
    "print(a**b)"
   ]
  },
  {
   "cell_type": "code",
   "execution_count": 14,
   "id": "110b7803-2ed9-465d-8fac-c2c5e088a1e4",
   "metadata": {},
   "outputs": [
    {
     "name": "stdout",
     "output_type": "stream",
     "text": [
      "12\n",
      "8\n",
      "20\n",
      "5.0\n",
      "5\n",
      "0\n",
      "100\n"
     ]
    }
   ],
   "source": [
    "#assignment operater\n",
    "a = 10\n",
    "a+=2\n",
    "print(a)\n",
    "a = 10\n",
    "a-=2\n",
    "print(a)\n",
    "a = 10\n",
    "a*=2\n",
    "print(a)\n",
    "a = 10\n",
    "a/=2\n",
    "print(a)\n",
    "a = 10\n",
    "a//=2\n",
    "print(a)\n",
    "a = 10\n",
    "a%=2\n",
    "print(a)\n",
    "a = 10\n",
    "a**=2\n",
    "print(a)"
   ]
  },
  {
   "cell_type": "code",
   "execution_count": 7,
   "id": "27662c5b-3f2f-4c44-a9ab-51f5a9d39fb7",
   "metadata": {},
   "outputs": [
    {
     "name": "stdout",
     "output_type": "stream",
     "text": [
      "False\n",
      "True\n",
      "False\n",
      "False\n",
      "True\n",
      "True\n"
     ]
    }
   ],
   "source": [
    "#comparison operater\n",
    "a = 5\n",
    "b = 4\n",
    "print(a <= b)\n",
    "print(a >= b)\n",
    "print(a == b)\n",
    "print(a < b)\n",
    "print(a > b)\n",
    "print(a != b)"
   ]
  },
  {
   "cell_type": "code",
   "execution_count": null,
   "id": "5dd99a7e-6546-47ae-8802-3a5e6a9b8521",
   "metadata": {},
   "outputs": [],
   "source": []
  }
 ],
 "metadata": {
  "kernelspec": {
   "display_name": "Python 3 (ipykernel)",
   "language": "python",
   "name": "python3"
  },
  "language_info": {
   "codemirror_mode": {
    "name": "ipython",
    "version": 3
   },
   "file_extension": ".py",
   "mimetype": "text/x-python",
   "name": "python",
   "nbconvert_exporter": "python",
   "pygments_lexer": "ipython3",
   "version": "3.12.7"
  }
 },
 "nbformat": 4,
 "nbformat_minor": 5
}
