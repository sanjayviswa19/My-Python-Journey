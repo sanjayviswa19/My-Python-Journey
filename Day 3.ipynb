{
 "cells": [
  {
   "cell_type": "code",
   "execution_count": 2,
   "id": "b693e371-662f-438d-858c-47aba6e273d9",
   "metadata": {},
   "outputs": [
    {
     "name": "stdout",
     "output_type": "stream",
     "text": [
      "1.0\n",
      "3.0\n"
     ]
    }
   ],
   "source": [
    "#how to split complex \n",
    "k=1+3j\n",
    "real_part = k.real\n",
    "imag_part = k.imag\n",
    "print(real_part)\n",
    "print(imag_part)"
   ]
  },
  {
   "cell_type": "code",
   "execution_count": 3,
   "id": "f9e6af51-a3d9-4584-9163-5fa96d6ce599",
   "metadata": {},
   "outputs": [
    {
     "name": "stdout",
     "output_type": "stream",
     "text": [
      "23\n"
     ]
    }
   ],
   "source": [
    "#length\n",
    "a=\"i am studying at besant\"\n",
    "print(len(a))"
   ]
  },
  {
   "cell_type": "code",
   "execution_count": 5,
   "id": "e3f0dae1-a044-4680-bd7a-572e6eb2b45c",
   "metadata": {},
   "outputs": [
    {
     "name": "stdout",
     "output_type": "stream",
     "text": [
      "e\n",
      "d\n"
     ]
    }
   ],
   "source": [
    "#strint index\n",
    "b = \"hello world!\"\n",
    "print(b[1])\n",
    "d = \"hello world!\"\n",
    "print(d[-2])"
   ]
  },
  {
   "cell_type": "code",
   "execution_count": 6,
   "id": "5bc0d0a3-c726-4599-b15a-56d113e8d115",
   "metadata": {},
   "outputs": [
    {
     "name": "stdout",
     "output_type": "stream",
     "text": [
      "hello\n"
     ]
    }
   ],
   "source": [
    "#string Slicing\n",
    "b = \"hello world!\"\n",
    "print(b[0:5])"
   ]
  },
  {
   "cell_type": "code",
   "execution_count": 12,
   "id": "dd1f7524-e6bb-47d1-93ab-90b4916eedbe",
   "metadata": {},
   "outputs": [
    {
     "name": "stdout",
     "output_type": "stream",
     "text": [
      "san\n",
      "e, be\n",
      "me, besant!\n",
      "welcome\n"
     ]
    }
   ],
   "source": [
    "#task for string slicing\n",
    "b = \"welcome, besant!\"\n",
    "print(b[-5:-2])\n",
    "print(b[6:11])\n",
    "print(b[5:])\n",
    "print(b[:7])"
   ]
  },
  {
   "cell_type": "code",
   "execution_count": 13,
   "id": "f5e81b6f-4367-4520-88db-8a17d6fa69d7",
   "metadata": {},
   "outputs": [
    {
     "name": "stdin",
     "output_type": "stream",
     "text": [
      "enter your name:  sanjay\n",
      "enter your age:  21\n"
     ]
    },
    {
     "name": "stdout",
     "output_type": "stream",
     "text": [
      "my name is sanjay and my age is 21\n"
     ]
    }
   ],
   "source": [
    "#formet\n",
    "a = input(\"enter your name: \")\n",
    "b = input(\"enter your age: \")\n",
    "k=f\"my name is {a} and my age is {b}\"\n",
    "print(k)"
   ]
  }
 ],
 "metadata": {
  "kernelspec": {
   "display_name": "Python 3 (ipykernel)",
   "language": "python",
   "name": "python3"
  },
  "language_info": {
   "codemirror_mode": {
    "name": "ipython",
    "version": 3
   },
   "file_extension": ".py",
   "mimetype": "text/x-python",
   "name": "python",
   "nbconvert_exporter": "python",
   "pygments_lexer": "ipython3",
   "version": "3.12.7"
  }
 },
 "nbformat": 4,
 "nbformat_minor": 5
}
