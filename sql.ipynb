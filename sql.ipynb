{
 "cells": [
  {
   "cell_type": "code",
   "execution_count": 3,
   "id": "005346f6-db02-4ef7-a295-49a16c94a5d2",
   "metadata": {},
   "outputs": [],
   "source": [
    "import sqlite3"
   ]
  },
  {
   "cell_type": "code",
   "execution_count": 4,
   "id": "5cbb05a2-1cc8-4f1d-ac44-0a3f79ffc738",
   "metadata": {},
   "outputs": [],
   "source": [
    "conn=sqlite3.connect(\"day1.db\")"
   ]
  },
  {
   "cell_type": "code",
   "execution_count": 5,
   "id": "42759152-7f90-4112-992e-4b1cc39d2408",
   "metadata": {},
   "outputs": [],
   "source": [
    "cur=conn.cursor()"
   ]
  },
  {
   "cell_type": "code",
   "execution_count": 8,
   "id": "f7f59624-17f8-408d-86a6-6c6d26e21bb4",
   "metadata": {},
   "outputs": [],
   "source": [
    "cur.execute(\"CREATE TABLE IF NOT EXISTS new (id int primary key ,name varchar,dept varchar)\")\n",
    "conn.commit()"
   ]
  },
  {
   "cell_type": "code",
   "execution_count": 13,
   "id": "3788f2eb-1785-4234-9f58-fd839c33ebea",
   "metadata": {},
   "outputs": [
    {
     "name": "stdin",
     "output_type": "stream",
     "text": [
      "enter your name  ABC\n",
      "enter your dept JHAVXHA\n"
     ]
    }
   ],
   "source": [
    "name=input(\"enter your name \")\n",
    "dept=input(\"enter your dept\")"
   ]
  },
  {
   "cell_type": "code",
   "execution_count": 14,
   "id": "4990a418-6dd3-40e0-baf3-430aaee6d414",
   "metadata": {},
   "outputs": [],
   "source": [
    "cur.execute(\"insert into new (id,name,dept)VALUES(?,?,?)\" ,(3,name,dept))\n",
    "conn.commit()"
   ]
  },
  {
   "cell_type": "code",
   "execution_count": 24,
   "id": "015f36ce-523c-4f69-8b9b-b852f3df80b5",
   "metadata": {},
   "outputs": [
    {
     "name": "stdout",
     "output_type": "stream",
     "text": [
      "2 raja EEE\n",
      "3 ABC JHAVXHA\n"
     ]
    }
   ],
   "source": [
    "cur.execute(\"select * from new\")\n",
    "\n",
    "rows = cur.fetchall()\n",
    "for i in rows:\n",
    "    print(i[0],i[1],i[2])\n"
   ]
  },
  {
   "cell_type": "code",
   "execution_count": 23,
   "id": "2f6a444e-e0a8-4841-857e-610974d2b837",
   "metadata": {},
   "outputs": [
    {
     "data": {
      "text/plain": [
       "[(1, 'raja', 'dept')]"
      ]
     },
     "execution_count": 23,
     "metadata": {},
     "output_type": "execute_result"
    }
   ],
   "source": [
    "cur.execute(\"select * from new where  name = ?\",(\"raja\",))\n",
    "\n",
    "rows = cur.fetchall()\n",
    "rows"
   ]
  },
  {
   "cell_type": "code",
   "execution_count": 89,
   "id": "f8a71e3d-f249-4813-bd79-e8008a89a677",
   "metadata": {},
   "outputs": [],
   "source": [
    "cur.execute(\"UPDATE new SET name = ? WHERE name = ?\", (\"kartkick\", \"raja\"))\n",
    "conn.commit()"
   ]
  },
  {
   "cell_type": "code",
   "execution_count": 26,
   "id": "e77b1225-d8e5-425d-ac4b-42622960550c",
   "metadata": {},
   "outputs": [
    {
     "name": "stdout",
     "output_type": "stream",
     "text": [
      "Pausing the process.\n"
     ]
    }
   ],
   "source": []
  },
  {
   "cell_type": "code",
   "execution_count": null,
   "id": "9143d4a0-715f-4da4-9510-61aaec533b2f",
   "metadata": {},
   "outputs": [],
   "source": []
  }
 ],
 "metadata": {
  "kernelspec": {
   "display_name": "Python 3 (ipykernel)",
   "language": "python",
   "name": "python3"
  },
  "language_info": {
   "codemirror_mode": {
    "name": "ipython",
    "version": 3
   },
   "file_extension": ".py",
   "mimetype": "text/x-python",
   "name": "python",
   "nbconvert_exporter": "python",
   "pygments_lexer": "ipython3",
   "version": "3.12.4"
  }
 },
 "nbformat": 4,
 "nbformat_minor": 5
}
