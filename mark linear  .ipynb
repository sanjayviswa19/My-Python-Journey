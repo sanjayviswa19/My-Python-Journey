{
 "cells": [
  {
   "cell_type": "markdown",
   "id": "43236bd2-efcc-4d21-be66-077e8b436a80",
   "metadata": {},
   "source": [
    "# pandas\n"
   ]
  },
  {
   "cell_type": "markdown",
   "id": "dda9e6e3-1aaa-4b6a-9849-bbb1cc6096d8",
   "metadata": {},
   "source": [
    "## Pandas is a Python library.\n",
    "## Pandas is used to analyze data"
   ]
  },
  {
   "cell_type": "code",
   "execution_count": null,
   "id": "1faf950c-aab5-4890-9258-f0e88fa1144a",
   "metadata": {},
   "outputs": [],
   "source": [
    "import pandas as pd\n",
    "\n",
    "data=pd.read_csv(\"mark.csv\")\n",
    "\n",
    "data"
   ]
  },
  {
   "cell_type": "code",
   "execution_count": null,
   "id": "44ca1c14-0ea5-4b4e-9992-764d096feb9b",
   "metadata": {},
   "outputs": [],
   "source": [
    "data.head(10)"
   ]
  },
  {
   "cell_type": "code",
   "execution_count": null,
   "id": "702e6184-51e5-4e03-bd36-cbe71029b0b4",
   "metadata": {},
   "outputs": [],
   "source": [
    "data.tail()"
   ]
  },
  {
   "cell_type": "code",
   "execution_count": null,
   "id": "c073ee78-5440-4080-b742-4bfd623f32f9",
   "metadata": {},
   "outputs": [],
   "source": [
    "data.describe()"
   ]
  },
  {
   "cell_type": "code",
   "execution_count": null,
   "id": "741b73f4-d9d3-41b2-b931-b58780623e07",
   "metadata": {},
   "outputs": [],
   "source": [
    "data.info()"
   ]
  },
  {
   "cell_type": "code",
   "execution_count": null,
   "id": "0f656cb3-a2db-4371-b13d-7f27d4d2484b",
   "metadata": {},
   "outputs": [],
   "source": [
    "empty_cells = data.isnull()\n",
    "empty_cells\n"
   ]
  },
  {
   "cell_type": "code",
   "execution_count": null,
   "id": "1f8d5aa3-ea99-4c55-89b0-2e19cc2d16ff",
   "metadata": {},
   "outputs": [],
   "source": [
    "empty_cells = data.isnull().sum()\n",
    "print(empty_cells)\n"
   ]
  },
  {
   "cell_type": "code",
   "execution_count": null,
   "id": "55b5f4be-7a5c-4c57-a574-36815dbdeba9",
   "metadata": {},
   "outputs": [],
   "source": [
    "from sklearn.preprocessing import LabelEncoder\n",
    "label_encoder = LabelEncoder()\n",
    "\n",
    "\n",
    "data[\"Grade\"] = label_encoder.fit_transform(data[\"Grade\"])\n",
    "data"
   ]
  },
  {
   "cell_type": "code",
   "execution_count": null,
   "id": "cfa7f749-b714-42c5-8a5c-cf0847836c14",
   "metadata": {},
   "outputs": [],
   "source": [
    "#Mean = the average value (the sum of all values divided by number of values). \n",
    "#Median = the value in the middle, after you have sorted all values ascending.\n",
    "#Mode = the value that appears most frequently."
   ]
  },
  {
   "cell_type": "code",
   "execution_count": null,
   "id": "be81c5a5-409b-4abd-828f-c720aacf29e7",
   "metadata": {},
   "outputs": [],
   "source": [
    "X11=data[\"English\"].mean()\n",
    "X11"
   ]
  },
  {
   "cell_type": "code",
   "execution_count": null,
   "id": "445973b1-5cb4-4940-96d7-9e19e28a4a5c",
   "metadata": {},
   "outputs": [],
   "source": [
    "x1=data[\"Science\"].mean()\n",
    "x1"
   ]
  },
  {
   "cell_type": "code",
   "execution_count": null,
   "id": "583cb624-99d9-42d9-a234-2c79d933f29a",
   "metadata": {},
   "outputs": [],
   "source": [
    "x2=data[\"Tamil\"].mean()\n",
    "x2"
   ]
  },
  {
   "cell_type": "code",
   "execution_count": null,
   "id": "d9045147-7a8f-4fb0-83a6-da1e3d63dc51",
   "metadata": {},
   "outputs": [],
   "source": [
    "x3=data[\"Social Science\"].mean()\n",
    "x3"
   ]
  },
  {
   "cell_type": "code",
   "execution_count": null,
   "id": "d7b72780-7d94-4732-8909-2858f2c33522",
   "metadata": {},
   "outputs": [],
   "source": [
    "x4=data[\"Total\"].mean()\n",
    "x4"
   ]
  },
  {
   "cell_type": "code",
   "execution_count": null,
   "id": "502d3726-4ca5-428d-ac5b-e1e38fc4f597",
   "metadata": {},
   "outputs": [],
   "source": [
    "x6=data[\"Grade\"].mode()\n",
    "x6"
   ]
  },
  {
   "cell_type": "code",
   "execution_count": null,
   "id": "d43e79c8-9ea7-4875-8f5a-8e9ec71e2df6",
   "metadata": {},
   "outputs": [],
   "source": [
    "data[\"English\"].fillna(X11, inplace = True)\n",
    "data[\"Science\"].fillna(x1, inplace = True)\n",
    "data[\"Tamil\"].fillna(x2, inplace = True)\n",
    "data[\"Social Science\"].fillna(x3, inplace = True)\n",
    "data[\"Total\"].fillna(x4, inplace = True)\n",
    "data[\"Grade\"].fillna(x6, inplace = True)"
   ]
  },
  {
   "cell_type": "code",
   "execution_count": null,
   "id": "10c53452-8059-40dd-a92c-2db07a653b32",
   "metadata": {},
   "outputs": [],
   "source": [
    "empty_cells = data.isnull().sum()\n",
    "print(empty_cells)"
   ]
  },
  {
   "cell_type": "code",
   "execution_count": null,
   "id": "3fd574b4-9b21-4de1-bf92-0d55af3ac9f3",
   "metadata": {},
   "outputs": [],
   "source": [
    "x=data.drop([\"Roll No\",\"Name\",\"Total\",\"Grade\"],axis=1)\n",
    "y=data[\"Total\"]"
   ]
  },
  {
   "cell_type": "code",
   "execution_count": null,
   "id": "491ef531-acfa-4175-957e-fe7f1745c082",
   "metadata": {},
   "outputs": [],
   "source": [
    "from sklearn.model_selection import train_test_split\n",
    "x_train, x_test, y_train, y_test = train_test_split(x, y, test_size=0.2, random_state=42)\n"
   ]
  },
  {
   "cell_type": "code",
   "execution_count": null,
   "id": "21bb2bbf-98f3-43f0-8ae3-10069ea631b2",
   "metadata": {},
   "outputs": [],
   "source": [
    "X_train.head()"
   ]
  },
  {
   "cell_type": "code",
   "execution_count": null,
   "id": "7d12ce0e-f20d-46d8-a57c-91fdf863e938",
   "metadata": {},
   "outputs": [],
   "source": [
    "X_test.head()"
   ]
  },
  {
   "cell_type": "code",
   "execution_count": null,
   "id": "1264773c-b482-44a5-b44e-8a50d7ae53ff",
   "metadata": {},
   "outputs": [],
   "source": [
    "y_train.head()"
   ]
  },
  {
   "cell_type": "code",
   "execution_count": null,
   "id": "8f6b6259-f5c4-4647-b12f-c2aa858d50b6",
   "metadata": {},
   "outputs": [],
   "source": [
    "y_test.head()"
   ]
  },
  {
   "cell_type": "code",
   "execution_count": null,
   "id": "58c663da-c29c-491d-a64a-b1cd835f29fd",
   "metadata": {},
   "outputs": [],
   "source": [
    "from sklearn.linear_model import LinearRegression\n",
    "\n",
    "model = LinearRegression()\n",
    "model.fit(X_train, y_train)"
   ]
  },
  {
   "cell_type": "code",
   "execution_count": null,
   "id": "353a9a7e-0f59-4620-8f57-b3895d33aa94",
   "metadata": {},
   "outputs": [],
   "source": [
    "ypre=model.predict(X_test)\n",
    "print(ypre)\n"
   ]
  },
  {
   "cell_type": "code",
   "execution_count": null,
   "id": "d050bf35-425d-4fd6-b355-59e702889f30",
   "metadata": {},
   "outputs": [],
   "source": [
    "y_test"
   ]
  },
  {
   "cell_type": "code",
   "execution_count": null,
   "id": "b50a33fa-f098-445b-8887-4ea32d2d656d",
   "metadata": {},
   "outputs": [],
   "source": [
    "from sklearn.metrics import mean_squared_error\n",
    "mse = mean_squared_error(y_test, ypre)\n",
    "print(\"MSE:\", mse)\n"
   ]
  },
  {
   "cell_type": "code",
   "execution_count": null,
   "id": "8bab9b88-de8f-4228-9fb8-3c02579e2f16",
   "metadata": {},
   "outputs": [],
   "source": []
  }
 ],
 "metadata": {
  "kernelspec": {
   "display_name": "Python 3 (ipykernel)",
   "language": "python",
   "name": "python3"
  },
  "language_info": {
   "codemirror_mode": {
    "name": "ipython",
    "version": 3
   },
   "file_extension": ".py",
   "mimetype": "text/x-python",
   "name": "python",
   "nbconvert_exporter": "python",
   "pygments_lexer": "ipython3",
   "version": "3.12.7"
  }
 },
 "nbformat": 4,
 "nbformat_minor": 5
}
