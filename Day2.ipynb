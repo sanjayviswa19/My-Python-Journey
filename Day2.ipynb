{
 "cells": [
  {
   "cell_type": "code",
   "execution_count": 1,
   "id": "f7cf1218-ea7b-4681-a62e-c9d65dc6dc6d",
   "metadata": {},
   "outputs": [
    {
     "name": "stdout",
     "output_type": "stream",
     "text": [
      "7\n"
     ]
    }
   ],
   "source": [
    "k=7\n",
    "print(k)"
   ]
  },
  {
   "cell_type": "markdown",
   "id": "f7798378-1c20-49e6-921f-d82f8e9cc66f",
   "metadata": {},
   "source": [
    "Static value"
   ]
  },
  {
   "cell_type": "code",
   "execution_count": 4,
   "id": "a59e8ab3-c507-41f5-9771-a567f54b2921",
   "metadata": {},
   "outputs": [
    {
     "name": "stdout",
     "output_type": "stream",
     "text": [
      "12\n"
     ]
    }
   ],
   "source": [
    "k=7\n",
    "l=5\n",
    "print(k+l)"
   ]
  },
  {
   "cell_type": "markdown",
   "id": "5af6dfec-8ea4-4fe0-8669-73354b2bd8dc",
   "metadata": {},
   "source": [
    "Dynamic value"
   ]
  },
  {
   "cell_type": "code",
   "execution_count": 5,
   "id": "41b9a30a-d007-432f-b64a-6b8d00774fce",
   "metadata": {},
   "outputs": [
    {
     "name": "stdin",
     "output_type": "stream",
     "text": [
      " 65\n"
     ]
    }
   ],
   "source": [
    "my_variable = input()"
   ]
  },
  {
   "cell_type": "markdown",
   "id": "37c92709-7fec-4377-8dbb-bf4fbfeb1081",
   "metadata": {},
   "source": [
    "Data Types"
   ]
  },
  {
   "cell_type": "code",
   "execution_count": 3,
   "id": "2646c22f-fa2a-4c85-ac97-884de7bd8001",
   "metadata": {},
   "outputs": [
    {
     "name": "stdout",
     "output_type": "stream",
     "text": [
      "<class 'int'>\n",
      "<class 'str'>\n"
     ]
    }
   ],
   "source": [
    "# Text type\n",
    "k=7\n",
    "k1=\"7\"\n",
    "print(type(k))\n",
    "print(type(k1))"
   ]
  },
  {
   "cell_type": "code",
   "execution_count": 7,
   "id": "82248b75-99ee-4b19-9c82-80be53cd61eb",
   "metadata": {},
   "outputs": [
    {
     "name": "stdout",
     "output_type": "stream",
     "text": [
      "7\n",
      "(7+0j)\n",
      "7.0\n"
     ]
    }
   ],
   "source": [
    "#casting\n",
    "k=7\n",
    "print(str(k))\n",
    "print(complex(k))\n",
    "print(float(k))"
   ]
  },
  {
   "cell_type": "code",
   "execution_count": 32,
   "id": "c7bba1d8-e172-426d-999f-9b9d427c95ee",
   "metadata": {},
   "outputs": [
    {
     "ename": "ValueError",
     "evalue": "invalid literal for int() with base 10: 'hi'",
     "output_type": "error",
     "traceback": [
      "\u001b[1;31m---------------------------------------------------------------------------\u001b[0m",
      "\u001b[1;31mValueError\u001b[0m                                Traceback (most recent call last)",
      "Cell \u001b[1;32mIn[32], line 2\u001b[0m\n\u001b[0;32m      1\u001b[0m k\u001b[38;5;241m=\u001b[39m\u001b[38;5;124m\"\u001b[39m\u001b[38;5;124mhi\u001b[39m\u001b[38;5;124m\"\u001b[39m\n\u001b[1;32m----> 2\u001b[0m \u001b[38;5;28mprint\u001b[39m(\u001b[38;5;28mint\u001b[39m(k))\n\u001b[0;32m      3\u001b[0m \u001b[38;5;28mprint\u001b[39m(\u001b[38;5;28mcomplex\u001b[39m(k))\n",
      "\u001b[1;31mValueError\u001b[0m: invalid literal for int() with base 10: 'hi'"
     ]
    }
   ],
   "source": [
    "k=\"hi\"\n",
    "print(int(k))\n",
    "print(complex(k))\n",
    "print(float(k))"
   ]
  },
  {
   "cell_type": "code",
   "execution_count": 33,
   "id": "9218d2a0-a4f3-42a4-afcb-f93904c0d876",
   "metadata": {},
   "outputs": [
    {
     "name": "stdout",
     "output_type": "stream",
     "text": [
      "89\n",
      "(89+0j)\n",
      "89.0\n"
     ]
    }
   ],
   "source": [
    "k=\"89\"\n",
    "print((k))\n",
    "print(complex(k))\n",
    "print(float(k))"
   ]
  },
  {
   "cell_type": "code",
   "execution_count": 1,
   "id": "de005cba-d008-4bb7-bf5c-de428bad5a47",
   "metadata": {},
   "outputs": [
    {
     "name": "stdout",
     "output_type": "stream",
     "text": [
      "(1+3j)\n"
     ]
    },
    {
     "ename": "TypeError",
     "evalue": "int() argument must be a string, a bytes-like object or a real number, not 'complex'",
     "output_type": "error",
     "traceback": [
      "\u001b[1;31m---------------------------------------------------------------------------\u001b[0m",
      "\u001b[1;31mTypeError\u001b[0m                                 Traceback (most recent call last)",
      "Cell \u001b[1;32mIn[1], line 3\u001b[0m\n\u001b[0;32m      1\u001b[0m k\u001b[38;5;241m=\u001b[39m\u001b[38;5;241m1\u001b[39m\u001b[38;5;241m+\u001b[39m\u001b[38;5;241m3\u001b[39mj\n\u001b[0;32m      2\u001b[0m \u001b[38;5;28mprint\u001b[39m(\u001b[38;5;28mstr\u001b[39m(k))\n\u001b[1;32m----> 3\u001b[0m \u001b[38;5;28mprint\u001b[39m(\u001b[38;5;28mint\u001b[39m(k))\n\u001b[0;32m      4\u001b[0m \u001b[38;5;28mprint\u001b[39m(\u001b[38;5;28mfloat\u001b[39m(k))\n",
      "\u001b[1;31mTypeError\u001b[0m: int() argument must be a string, a bytes-like object or a real number, not 'complex'"
     ]
    }
   ],
   "source": [
    "k=1+3j\n",
    "print(str(k))\n",
    "print(int(k))\n",
    "print(float(k))"
   ]
  },
  {
   "cell_type": "code",
   "execution_count": 24,
   "id": "46235bb6-fd64-486d-a08e-d736d8677541",
   "metadata": {},
   "outputs": [
    {
     "name": "stdout",
     "output_type": "stream",
     "text": [
      "7.8\n",
      "7\n",
      "(7.8+0j)\n"
     ]
    }
   ],
   "source": [
    "k=7.8\n",
    "print(str(k))\n",
    "print(int(k))\n",
    "print(complex(k))"
   ]
  }
 ],
 "metadata": {
  "kernelspec": {
   "display_name": "Python 3 (ipykernel)",
   "language": "python",
   "name": "python3"
  },
  "language_info": {
   "codemirror_mode": {
    "name": "ipython",
    "version": 3
   },
   "file_extension": ".py",
   "mimetype": "text/x-python",
   "name": "python",
   "nbconvert_exporter": "python",
   "pygments_lexer": "ipython3",
   "version": "3.12.7"
  }
 },
 "nbformat": 4,
 "nbformat_minor": 5
}
