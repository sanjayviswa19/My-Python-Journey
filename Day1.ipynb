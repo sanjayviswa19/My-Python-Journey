{
 "cells": [
  {
   "cell_type": "code",
   "execution_count": 1,
   "id": "9849ddc7-b07c-4281-851c-744fc6ce6e63",
   "metadata": {},
   "outputs": [
    {
     "name": "stdout",
     "output_type": "stream",
     "text": [
      "Hello world\n"
     ]
    }
   ],
   "source": [
    "print(\"Hello world\")"
   ]
  },
  {
   "cell_type": "code",
   "execution_count": 2,
   "id": "4b61fba1-519a-4973-8a7b-08ab3e77a280",
   "metadata": {},
   "outputs": [
    {
     "data": {
      "text/plain": [
       "'3.12.7 | packaged by Anaconda, Inc. | (main, Oct  4 2024, 13:17:27) [MSC v.1929 64 bit (AMD64)]'"
      ]
     },
     "execution_count": 2,
     "metadata": {},
     "output_type": "execute_result"
    }
   ],
   "source": [
    "import sys\n",
    "sys.version"
   ]
  },
  {
   "cell_type": "markdown",
   "id": "6d1c8ddf-f827-4b8e-9b10-c4a08b7e3b67",
   "metadata": {},
   "source": [
    "Single Line Command"
   ]
  },
  {
   "cell_type": "code",
   "execution_count": null,
   "id": "31872174-7b17-4cb2-a069-1ec1a7fd8ca0",
   "metadata": {},
   "outputs": [],
   "source": [
    "# single line command\n",
    "a=10\n",
    "b=15\n",
    "c=10\n",
    "c"
   ]
  },
  {
   "cell_type": "markdown",
   "id": "0bbfac29-4d8b-4fa1-b69c-49c8e37e8964",
   "metadata": {},
   "source": [
    "Multiline Command"
   ]
  },
  {
   "cell_type": "code",
   "execution_count": null,
   "id": "03e08d16-736a-48c8-b5fd-57ae54fc6184",
   "metadata": {},
   "outputs": [],
   "source": [
    "#multi line command\n",
    "\n",
    "'''a=3\n",
    "b=5\n",
    "c=17\n",
    "D=a+b+c'''"
   ]
  }
 ],
 "metadata": {
  "kernelspec": {
   "display_name": "Python 3 (ipykernel)",
   "language": "python",
   "name": "python3"
  },
  "language_info": {
   "codemirror_mode": {
    "name": "ipython",
    "version": 3
   },
   "file_extension": ".py",
   "mimetype": "text/x-python",
   "name": "python",
   "nbconvert_exporter": "python",
   "pygments_lexer": "ipython3",
   "version": "3.12.7"
  }
 },
 "nbformat": 4,
 "nbformat_minor": 5
}
